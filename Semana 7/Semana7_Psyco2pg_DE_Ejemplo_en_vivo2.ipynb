{
 "cells": [
  {
   "cell_type": "code",
   "execution_count": null,
   "id": "215acb78",
   "metadata": {},
   "outputs": [],
   "source": [
    "!pip install psycopg2"
   ]
  },
  {
   "cell_type": "code",
   "execution_count": 1,
   "id": "6fead696",
   "metadata": {},
   "outputs": [],
   "source": [
    "import pandas as pd\n",
    "pd.options.display.max_rows = 10\n",
    "hostname= 'localhost'\n",
    "database= 'Semana6_DE'\n",
    "username= 'postgres'\n",
    "pwd='david9.25.38'\n",
    "port_id= '5432'\n",
    "import psycopg2"
   ]
  },
  {
   "cell_type": "code",
   "execution_count": 2,
   "id": "90095acc",
   "metadata": {},
   "outputs": [],
   "source": [
    "# Creamos la conexion (local)\n",
    "conn = psycopg2.connect(host=hostname, dbname=database, user=username, password=pwd, port=5432)\n",
    "# Conexion a redshift\n",
    "#conn = psycopg2.connect(host=hostname, dbname=database, user=username, password=pwd, port=5439)"
   ]
  },
  {
   "cell_type": "code",
   "execution_count": 3,
   "id": "89618006",
   "metadata": {},
   "outputs": [],
   "source": [
    "def execute_read_query(connection, query):\n",
    "    cursor = connection.cursor()\n",
    "    result = None\n",
    "    try:\n",
    "        cursor.execute(query)\n",
    "        result = cursor.fetchall()\n",
    "        return result\n",
    "    except Error as e:\n",
    "        print(f\"Error '{e}' ha ocurrido\")"
   ]
  },
  {
   "cell_type": "markdown",
   "id": "416f729f",
   "metadata": {},
   "source": [
    "**Pregunta 1**\n",
    "\n",
    "Encuentre los cinco vendedores con mejor desempeño usando la columna `salesytd` (Sales, year-to-date). (Solo necesitamos conocer el `businessentityid` de cada vendedor, ya que esto identifica de forma única a cada uno). ¿Por qué podría ser escéptico con estos números en este momento?"
   ]
  },
  {
   "cell_type": "code",
   "execution_count": 4,
   "id": "c10cf07f",
   "metadata": {},
   "outputs": [
    {
     "data": {
      "text/plain": [
       "[(276, 4251368.5497),\n",
       " (289, 4116871.2277),\n",
       " (275, 3763178.1787),\n",
       " (277, 3189418.3662),\n",
       " (290, 3121616.3202)]"
      ]
     },
     "execution_count": 4,
     "metadata": {},
     "output_type": "execute_result"
    }
   ],
   "source": [
    "query5=\"\"\"SELECT BusinessEntityID, SalesYTD FROM SalesPerson ORDER BY SalesYTD DESC LIMIT 5;\"\"\"\n",
    "execute_read_query(conn, query5)"
   ]
  },
  {
   "cell_type": "markdown",
   "id": "3d95ce2c",
   "metadata": {},
   "source": [
    "Una version mejorada de la funcion sería"
   ]
  },
  {
   "cell_type": "code",
   "execution_count": 13,
   "id": "c8166dee",
   "metadata": {},
   "outputs": [
    {
     "name": "stdout",
     "output_type": "stream",
     "text": [
      "['businessentityid', 'salesytd']\n"
     ]
    },
    {
     "data": {
      "text/html": [
       "<div>\n",
       "<style scoped>\n",
       "    .dataframe tbody tr th:only-of-type {\n",
       "        vertical-align: middle;\n",
       "    }\n",
       "\n",
       "    .dataframe tbody tr th {\n",
       "        vertical-align: top;\n",
       "    }\n",
       "\n",
       "    .dataframe thead th {\n",
       "        text-align: right;\n",
       "    }\n",
       "</style>\n",
       "<table border=\"1\" class=\"dataframe\">\n",
       "  <thead>\n",
       "    <tr style=\"text-align: right;\">\n",
       "      <th></th>\n",
       "      <th>businessentityid</th>\n",
       "      <th>salesytd</th>\n",
       "    </tr>\n",
       "  </thead>\n",
       "  <tbody>\n",
       "    <tr>\n",
       "      <th>0</th>\n",
       "      <td>276</td>\n",
       "      <td>4.251369e+06</td>\n",
       "    </tr>\n",
       "    <tr>\n",
       "      <th>1</th>\n",
       "      <td>289</td>\n",
       "      <td>4.116871e+06</td>\n",
       "    </tr>\n",
       "    <tr>\n",
       "      <th>2</th>\n",
       "      <td>275</td>\n",
       "      <td>3.763178e+06</td>\n",
       "    </tr>\n",
       "    <tr>\n",
       "      <th>3</th>\n",
       "      <td>277</td>\n",
       "      <td>3.189418e+06</td>\n",
       "    </tr>\n",
       "    <tr>\n",
       "      <th>4</th>\n",
       "      <td>290</td>\n",
       "      <td>3.121616e+06</td>\n",
       "    </tr>\n",
       "  </tbody>\n",
       "</table>\n",
       "</div>"
      ],
      "text/plain": [
       "   businessentityid      salesytd\n",
       "0               276  4.251369e+06\n",
       "1               289  4.116871e+06\n",
       "2               275  3.763178e+06\n",
       "3               277  3.189418e+06\n",
       "4               290  3.121616e+06"
      ]
     },
     "execution_count": 13,
     "metadata": {},
     "output_type": "execute_result"
    }
   ],
   "source": [
    "cursor = conn.cursor()\n",
    "cursor.execute(query5)\n",
    "columnas = [description[0] for description in cursor.description]\n",
    "cursor.fetchall()\n",
    "print(columnas)\n",
    "execute_read_query(conn, query5)\n",
    "pd.DataFrame(execute_read_query(conn, query5),columns=columnas)"
   ]
  },
  {
   "cell_type": "markdown",
   "id": "1ff99896",
   "metadata": {},
   "source": [
    "Los números están codificados en esta tabla, en lugar de calcularse dinámicamente a partir de cada registro de ventas. Actualmente, no sabemos cómo se actualiza este número o mucho al respecto, por lo que es bueno permanecer escéptico."
   ]
  },
  {
   "cell_type": "markdown",
   "id": "cdb0645c",
   "metadata": {},
   "source": [
    "**Pregunta 2**\n",
    "\n",
    "Usando ```salesorderheader```, busque los 5 mejores vendedores que hicieron la mayor cantidad de ventas **en el año más reciente** (2014). (Hay una columna llamada `subtotal`; úsela). Las ventas que no tienen un vendedor asociado deben excluirse de sus cálculos y producción final. Se deben incluir todos los pedidos que se realizaron dentro del año calendario 2014.\n",
    "\n",
    "**Pista:** Puedes usar la sintaxis `'1970-01-01'` para generar un punto de comparacion en el tiempo"
   ]
  },
  {
   "cell_type": "code",
   "execution_count": 14,
   "id": "1caca742",
   "metadata": {},
   "outputs": [
    {
     "data": {
      "text/plain": [
       "[(289.0, 1382997.0),\n",
       " (276.0, 1271089.0),\n",
       " (275.0, 1057247.0),\n",
       " (282.0, 1044811.0),\n",
       " (277.0, 1040093.0)]"
      ]
     },
     "execution_count": 14,
     "metadata": {},
     "output_type": "execute_result"
    }
   ],
   "source": [
    "query6=\"\"\"\n",
    "SELECT salespersonid, round(SUM(subtotal)) AS totalsales\n",
    "FROM salesorderheader soh\n",
    "WHERE soh.orderdate >= '2014-01-01'\n",
    "AND soh.SalesPersonID is not NULL\n",
    "GROUP BY SalesPersonID\n",
    "ORDER BY TotalSales DESC\n",
    "LIMIT 5;\n",
    "\"\"\"\n",
    "execute_read_query(conn, query6)"
   ]
  },
  {
   "cell_type": "code",
   "execution_count": 15,
   "id": "975c9d98",
   "metadata": {},
   "outputs": [
    {
     "name": "stdout",
     "output_type": "stream",
     "text": [
      "['salespersonid', 'totalsales']\n"
     ]
    },
    {
     "data": {
      "text/html": [
       "<div>\n",
       "<style scoped>\n",
       "    .dataframe tbody tr th:only-of-type {\n",
       "        vertical-align: middle;\n",
       "    }\n",
       "\n",
       "    .dataframe tbody tr th {\n",
       "        vertical-align: top;\n",
       "    }\n",
       "\n",
       "    .dataframe thead th {\n",
       "        text-align: right;\n",
       "    }\n",
       "</style>\n",
       "<table border=\"1\" class=\"dataframe\">\n",
       "  <thead>\n",
       "    <tr style=\"text-align: right;\">\n",
       "      <th></th>\n",
       "      <th>salespersonid</th>\n",
       "      <th>totalsales</th>\n",
       "    </tr>\n",
       "  </thead>\n",
       "  <tbody>\n",
       "    <tr>\n",
       "      <th>0</th>\n",
       "      <td>289.0</td>\n",
       "      <td>1382997.0</td>\n",
       "    </tr>\n",
       "    <tr>\n",
       "      <th>1</th>\n",
       "      <td>276.0</td>\n",
       "      <td>1271089.0</td>\n",
       "    </tr>\n",
       "    <tr>\n",
       "      <th>2</th>\n",
       "      <td>275.0</td>\n",
       "      <td>1057247.0</td>\n",
       "    </tr>\n",
       "    <tr>\n",
       "      <th>3</th>\n",
       "      <td>282.0</td>\n",
       "      <td>1044811.0</td>\n",
       "    </tr>\n",
       "    <tr>\n",
       "      <th>4</th>\n",
       "      <td>277.0</td>\n",
       "      <td>1040093.0</td>\n",
       "    </tr>\n",
       "  </tbody>\n",
       "</table>\n",
       "</div>"
      ],
      "text/plain": [
       "   salespersonid  totalsales\n",
       "0          289.0   1382997.0\n",
       "1          276.0   1271089.0\n",
       "2          275.0   1057247.0\n",
       "3          282.0   1044811.0\n",
       "4          277.0   1040093.0"
      ]
     },
     "execution_count": 15,
     "metadata": {},
     "output_type": "execute_result"
    }
   ],
   "source": [
    "cursor = conn.cursor()\n",
    "cursor.execute(query6)\n",
    "columnas = [description[0] for description in cursor.description]\n",
    "cursor.fetchall()\n",
    "print(columnas)\n",
    "pd.DataFrame(execute_read_query(conn, query6),columns=columnas)"
   ]
  }
 ],
 "metadata": {
  "kernelspec": {
   "display_name": "Python 3 (ipykernel)",
   "language": "python",
   "name": "python3"
  },
  "language_info": {
   "codemirror_mode": {
    "name": "ipython",
    "version": 3
   },
   "file_extension": ".py",
   "mimetype": "text/x-python",
   "name": "python",
   "nbconvert_exporter": "python",
   "pygments_lexer": "ipython3",
   "version": "3.9.12"
  }
 },
 "nbformat": 4,
 "nbformat_minor": 5
}
